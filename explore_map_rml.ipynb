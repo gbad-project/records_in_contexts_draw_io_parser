{
 "cells": [
  {
   "cell_type": "code",
   "execution_count": 1,
   "metadata": {},
   "outputs": [],
   "source": [
    "import sys\n",
    "sys.path.append('map_rml.py')\n",
    "from map_rml import map_rml, postprocess\n",
    "from rdflib import Graph, Namespace, URIRef, Literal, BNode\n",
    "from rdflib.namespace import RDF, RDFS, OWL, DCTERMS, NamespaceManager\n",
    "import pandas as pd"
   ]
  },
  {
   "cell_type": "code",
   "execution_count": 2,
   "metadata": {},
   "outputs": [],
   "source": [
    "from IPython.display import display, HTML, Markdown\n",
    "def htm(df: pd.DataFrame):\n",
    "    demo_df = df.T if len(df)<6 else df\n",
    "    display(HTML(demo_df.to_html()))\n",
    "\n",
    "def md(df: pd.DataFrame):\n",
    "    demo_df = df.T if len(df)<6 else df\n",
    "    display(Markdown(demo_df.to_markdown()))"
   ]
  },
  {
   "cell_type": "code",
   "execution_count": 3,
   "metadata": {},
   "outputs": [
    {
     "name": "stdout",
     "output_type": "stream",
     "text": [
      "Initiated mapping params:\n",
      "('gbad\\\\schema\\\\authority\\\\general_authority_to_ric-o_model_2024-08-29_pz.rml',\n",
      " '.\\\\rmlmapper-7.0.0-r374-all.jar',\n",
      " 'gbad\\\\mapping\\\\target\\\\general_authority_to_ric-o_model_2024-08-29_pz\\\\mapped.ttl')\n",
      "Successfully mapped 'gbad\\schema\\authority\\general_authority_to_ric-o_model_2024-08-29_pz.rml' to 'gbad\\mapping\\target\\general_authority_to_ric-o_model_2024-08-29_pz\\mapped.ttl'\n",
      "\n"
     ]
    }
   ],
   "source": [
    "rml, rmlmapper, ttl = map_rml('auth')"
   ]
  },
  {
   "cell_type": "code",
   "execution_count": 4,
   "metadata": {},
   "outputs": [
    {
     "name": "stdout",
     "output_type": "stream",
     "text": [
      "Successfully read a graph from 'gbad\\mapping\\target\\general_authority_to_ric-o_model_2024-08-29_pz\\mapped.ttl' \n",
      "Number of triples in the graph: 356\n"
     ]
    }
   ],
   "source": [
    "g = postprocess(ttl)"
   ]
  },
  {
   "cell_type": "code",
   "execution_count": 5,
   "metadata": {},
   "outputs": [],
   "source": [
    "# a sparql query that finds all triples containing a rico:Agent instance either as subject or object, and for all these rico:Agents, select all triples that have the rico:Agent as subject and \"rico:hasOrHadCorporateBodyType\" as predicate\n",
    "query = f\"\"\"\n",
    "# Find all triples with rico:Agent as subject or object and then find all triples\n",
    "# where rico:Agent is the subject and has predicate rico:hasOrHadCorporateBodyType\n",
    "SELECT DISTINCT ?agent ?subjectTriple ?predicate ?object ?corporateBodyType\n",
    "WHERE {{\n",
    "    # Finding all triples where rico:Agent is the subject or object\n",
    "    {{\n",
    "    ?agent rdf:type rico:Agent .\n",
    "    ?agent ?predicate ?object .\n",
    "    BIND(STR(?agent) AS ?subjectTriple)\n",
    "    }} UNION {{\n",
    "    ?object rdf:type rico:Agent .\n",
    "    ?subject ?predicate ?object .\n",
    "    BIND(STR(?object) AS ?subjectTriple)\n",
    "    }}\n",
    "    \n",
    "    # For all these rico:Agents, find all triples where the rico:Agent is the subject\n",
    "    # and the predicate is rico:hasOrHadCorporateBodyType\n",
    "    OPTIONAL {{\n",
    "        ?agent rico:hasOrHadCorporateBodyType ?corporateBodyType .\n",
    "    }}\n",
    "}}\n",
    "\"\"\"\n",
    "# Execute the query\n",
    "result = g.query(query)\n",
    "\n",
    "# List to hold the parsed results\n",
    "parsed_results = []\n",
    "\n",
    "# Process the results and create new triples\n",
    "for row in result:\n",
    "    parsed_results.append({\n",
    "        'agent': row.agent,\n",
    "        'corporateBodyType': row.corporateBodyType\n",
    "    })\n",
    "df = pd.DataFrame(parsed_results)"
   ]
  },
  {
   "cell_type": "code",
   "execution_count": 6,
   "metadata": {},
   "outputs": [
    {
     "data": {
      "text/markdown": [
       "|    | agent                                                                                                          | corporateBodyType                                                                                  |\n",
       "|---:|:---------------------------------------------------------------------------------------------------------------|:---------------------------------------------------------------------------------------------------|\n",
       "|  9 | https://data.archives.gov.on.ca/RiC-O_1-0-1/CHIN%20Radio%2FTV%20International/Agent/1                          | https://data.archives.gov.on.ca/Schema/Authority/CorporateBodyType/Corporate%20name                |\n",
       "| 64 | https://data.archives.gov.on.ca/RiC-O_1-0-1/Canada%20Packers/Agent/1                                           | https://data.archives.gov.on.ca/Schema/Authority/CorporateBodyType/Corporate%20name                |\n",
       "| 46 | https://data.archives.gov.on.ca/RiC-O_1-0-1/Ontario.%20Minister%20Responsible%20for%20Native%20Affairs/Agent/1 | https://data.archives.gov.on.ca/Schema/Authority/CorporateBodyType/A%20Ontario%20Government%20Name |\n",
       "| 74 | https://data.archives.gov.on.ca/RiC-O_1-0-1/Canada%20Packers/Agent/1                                           | https://data.archives.gov.on.ca/Schema/Authority/CorporateBodyType/Corporate%20name                |\n",
       "| 32 | https://data.archives.gov.on.ca/RiC-O_1-0-1/Multilingual%20Television%20%28Toronto%29%20Limited/Agent/1        | https://data.archives.gov.on.ca/Schema/Authority/CorporateBodyType/Corporate%20name                |\n",
       "|  7 | https://data.archives.gov.on.ca/RiC-O_1-0-1/CHIN%20Radio%2FTV%20International/Agent/1                          | https://data.archives.gov.on.ca/Schema/Authority/CorporateBodyType/Corporate%20name                |\n",
       "| 58 | https://data.archives.gov.on.ca/RiC-O_1-0-1/CHIN%20Radio%2FTV%20International/Agent/1                          | https://data.archives.gov.on.ca/Schema/Authority/CorporateBodyType/Corporate%20name                |\n",
       "| 26 | https://data.archives.gov.on.ca/RiC-O_1-0-1/Canadian%20Pacific%20Railway%20Company/Agent/1                     | https://data.archives.gov.on.ca/Schema/Authority/CorporateBodyType/Corporate%20name                |\n",
       "|  0 | https://data.archives.gov.on.ca/RiC-O_1-0-1/CHIN%20Radio%2FTV%20International/Agent/1                          | https://data.archives.gov.on.ca/Schema/Authority/CorporateBodyType/Corporate%20name                |\n",
       "| 49 | https://data.archives.gov.on.ca/RiC-O_1-0-1/Ontario.%20Minister%20Responsible%20for%20Native%20Affairs/Agent/1 | https://data.archives.gov.on.ca/Schema/Authority/CorporateBodyType/A%20Ontario%20Government%20Name |"
      ],
      "text/plain": [
       "<IPython.core.display.Markdown object>"
      ]
     },
     "metadata": {},
     "output_type": "display_data"
    }
   ],
   "source": [
    "md(df.sample(10))"
   ]
  }
 ],
 "metadata": {
  "kernelspec": {
   "display_name": "Python 3",
   "language": "python",
   "name": "python3"
  },
  "language_info": {
   "codemirror_mode": {
    "name": "ipython",
    "version": 3
   },
   "file_extension": ".py",
   "mimetype": "text/x-python",
   "name": "python",
   "nbconvert_exporter": "python",
   "pygments_lexer": "ipython3",
   "version": "3.11.3"
  }
 },
 "nbformat": 4,
 "nbformat_minor": 2
}
